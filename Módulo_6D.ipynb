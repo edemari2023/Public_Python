{
  "nbformat": 4,
  "nbformat_minor": 0,
  "metadata": {
    "colab": {
      "provenance": []
    },
    "kernelspec": {
      "name": "python3",
      "display_name": "Python 3"
    },
    "language_info": {
      "name": "python"
    }
  },
  "cells": [
    {
      "cell_type": "code",
      "source": [
        "# Criteria and Importance Ranking\n",
        "criteria = {\n",
        "    \"Simplicity and Ease of Setup\": 5,\n",
        "    \"Speed and Performance\": 4,\n",
        "    \"Cross-Platform Compatibility\": 5,\n",
        "    \"Single User Access\": 3,\n",
        "    \"Ease of Backup to USB\": 5,\n",
        "    \"Cost-Effectiveness\": 5,\n",
        "    \"Python Compatibility\": 5\n",
        "}\n",
        "\n",
        "# Database Evaluation\n",
        "databases = {\n",
        "    \"MSSQL\": [2, 3, 1, 4, 2, 2, 3],\n",
        "    \"Oracle\": [1, 4, 1, 4, 1, 1, 3],\n",
        "    \"SQLite\": [5, 5, 5, 5, 5, 5, 5],\n",
        "    \"MySQL (MariaDB)\": [4, 4, 4, 4, 4, 4, 4],\n",
        "    \"PostgreSQL\": [3, 5, 5, 3, 3, 3, 5],\n",
        "    \"Microsoft Access\": [1, 1, 1, 1, 1, 1, 1],\n",
        "    \"LibreOffice Base\": [1, 1, 1, 1, 1, 1, 1]\n",
        "}\n",
        "\n",
        "# Determine the common width for both headers and values\n",
        "common_width = 15\n",
        "\n",
        "# Print the header of the table with improved formatting\n",
        "print(\"{:<{width}} | {:<{width}} | {:<{width}} | {:<{width}}|{:<{width}}    |    {:<{width}}| {:<{width}}| {:<{width}}   |{:<{width}}\".format(\n",
        "    \"Database\", \"Simplicity&EaseSetup\", \"Speed&Performance\",\n",
        "    \"CrossPlatforCompat\", \"Single User\", \"Ease BackupUSB\",\n",
        "    \"Cost-Effectiveness\", \"Python Compaty \",\" Total Score\", width=common_width\n",
        "))\n",
        "\n",
        "# Calculate Total Scores for Each Database and Print Results\n",
        "column_sums = [0] * len(criteria)  # Initialize a list to store column sums\n",
        "\n",
        "for db_name, ratings in databases.items():\n",
        "    total_score = sum(rating * importance for rating, importance in zip(ratings, criteria.values()))\n",
        "\n",
        "    # Print the multiplication results in pairs with parentheses and improved formatting\n",
        "    print(f\"{db_name:<{common_width + 1}}     |       \", end=\"\")\n",
        "    for idx, (rating, importance) in enumerate(zip(ratings, criteria.values())):\n",
        "        result = rating * importance\n",
        "        column_sums[idx] += result  # Add the result to the corresponding column sum\n",
        "        print(f\"({result:<2}){rating:<5} |         \", end=\"\")\n",
        "\n",
        "    # Print the total sum for each database with improved formatting\n",
        "    print(f\"Total: {total_score}\")\n",
        "\n",
        "print(\"\\nThe Best Database for this Project Phase is:\", best_database)\n",
        "\n"
      ],
      "metadata": {
        "colab": {
          "base_uri": "https://localhost:8080/"
        },
        "id": "Ie_Vrxf6Z0FI",
        "outputId": "f75ededc-d6de-4a50-f841-545382af2d35"
      },
      "execution_count": 139,
      "outputs": [
        {
          "output_type": "stream",
          "name": "stdout",
          "text": [
            "Database        | Simplicity&EaseSetup | Speed&Performance | CrossPlatforCompat|Single User        |    Ease BackupUSB | Cost-Effectiveness| Python Compaty    | Total Score   \n",
            "MSSQL                |       (10)2     |         (12)3     |         (5 )1     |         (12)4     |         (10)2     |         (10)2     |         (15)3     |         Total: 74\n",
            "Oracle               |       (5 )1     |         (16)4     |         (5 )1     |         (12)4     |         (5 )1     |         (5 )1     |         (15)3     |         Total: 63\n",
            "SQLite               |       (25)5     |         (20)5     |         (25)5     |         (15)5     |         (25)5     |         (25)5     |         (25)5     |         Total: 160\n",
            "MySQL (MariaDB)      |       (20)4     |         (16)4     |         (20)4     |         (12)4     |         (20)4     |         (20)4     |         (20)4     |         Total: 128\n",
            "PostgreSQL           |       (15)3     |         (20)5     |         (25)5     |         (9 )3     |         (15)3     |         (15)3     |         (25)5     |         Total: 124\n",
            "Microsoft Access     |       (5 )1     |         (4 )1     |         (5 )1     |         (3 )1     |         (5 )1     |         (5 )1     |         (5 )1     |         Total: 32\n",
            "LibreOffice Base     |       (5 )1     |         (4 )1     |         (5 )1     |         (3 )1     |         (5 )1     |         (5 )1     |         (5 )1     |         Total: 32\n",
            "\n",
            "The Best Database for this Project Phase is: SQLite\n"
          ]
        }
      ]
    }
  ]
}